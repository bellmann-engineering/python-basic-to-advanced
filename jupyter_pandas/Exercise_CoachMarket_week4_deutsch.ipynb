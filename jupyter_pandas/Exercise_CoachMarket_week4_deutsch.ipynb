{
 "cells": [
  {
   "cell_type": "markdown",
   "id": "c5425dd6",
   "metadata": {},
   "source": [
    "# Übungsaufgaben\n",
    "# Coach Market: Selbstlernphase 1 - Woche 4"
   ]
  },
  {
   "cell_type": "markdown",
   "id": "47e2f45e",
   "metadata": {},
   "source": [
    "## Übersicht\n",
    "\n",
    "Die folgenden Übung beschäftigen sich mit dem grundlegenden Umgang mit Jupyter Notebook und ersten Funktionen des Pakets \"pandas\".\n",
    "\n",
    "Sie üben Jupyter zu bedienen und lernen Datensätze mit dem Python Paket \"pandas\" zu laden und zu bearbeiten. Außerdem werden erste Fragestellungen aus den Datensätzen beantworten.\n",
    "Wir nutzen für diese Übung Datensätze von Autoscout24 (*autoscout24-germany-dataset.csv*), welches Informationen über dort angebotene Fahrzeuge enthält.\n",
    "\n",
    "Wir werden die folgenden Aufgabenblöcke bearbeiten:\n",
    "- **A:  Jupyter Notebook - Steuerung und Features**\n",
    "- **B:  Pandas - Einladen und Übersicht über die Daten**\n",
    "- **C:  Pandas - Operationen und erste deskriptive Auswertungen**\n",
    "- **D:  Jupyter - Notebook magic commands (optional)**\n",
    "\n",
    "Jede Aufgabe wurde in einer eigenen Zelle diese Notebooks beschrieben. Bitte fügen Sie direkt unter einer solchen Zelle, Zelle(n) für ihre Lösung ein!\n",
    "\n",
    "Tipp: [https://pandas.pydata.org/docs/reference/index.html](https://pandas.pydata.org/docs/reference/index.html) finden Sie weiterführende Informationen und Hilfe zu z.B. einzelnen Funktionen.\n",
    "\n",
    "Wenn noch nicht geschehen, installieren Sie bitte die benötigten Pakete (Pandas und Numpy)."
   ]
  },
  {
   "cell_type": "markdown",
   "id": "f7ed7bf5",
   "metadata": {},
   "source": [
    "## A) Jupyter Notebooks: Steuerung und Features \r\n",
    "Keyboard Shortcuts sind nicht zwingend notwendig, um mit Jupyter Notebook zu arbeiten. Sie können die gleichen Funktionen über das Menü steuern. Dennoch ersparen Sie das oftmals lästiges Steuern mit der Maus, was in der Summe viel Zeit spart."
   ]
  },
  {
   "cell_type": "markdown",
   "id": "9eac6019",
   "metadata": {},
   "source": [
    "**Aufgabe A1:** \n",
    "\n",
    "- Erkunden Sie das Menu und verschaffen sich einen Überblick. Wichtige Keyboard Shortcuts des Command-Modes werden im Menu angezeigt.\n",
    "- Drücken Sie die Taste **H** im Command-Mode, um sich eine Übersicht der Shortcuts anzeigen zu lassen.\n",
    "- Was ist der Unterschied zwischen Command-Mode und Edit-Mode?\n",
    "- Versuchen Sie ein paar der Keyboard Shortcuts während der Übung zu verwenden (z.B.: Einfügen einer leeren Zelle unter der selektierten Zelle)."
   ]
  },
  {
   "cell_type": "markdown",
   "id": "fff6a34f",
   "metadata": {},
   "source": [
    "**Aufgabe A2:** Fügen Sie eine neue Zelle direkt unter dieser Zelle ein. Geben Sie folgenden Code in der neuen Zelle ein. Starten Sie die Ausführung der Zelle mit SHIFT+ENTER und achten Sie auf die Ausgabe.\n",
    "```{python}\n",
    "x = 10\n",
    "y = 20\n",
    "x + y\n",
    "```"
   ]
  },
  {
   "cell_type": "markdown",
   "id": "1a5e929d",
   "metadata": {},
   "source": [
    "**Ausgabe A3:** Fügen Sie eine weitere Zelle ein, starten Sie die neue Zelle mit dem folgenden Code und achten auf die Ausgabe. Was können Sie tun, um den Inhalt der Variablen **z** zu erhalten?\n",
    "```{python}\n",
    "x = 10\n",
    "y = 20\n",
    "z = x + y\n",
    "```"
   ]
  },
  {
   "cell_type": "markdown",
   "id": "6703f583",
   "metadata": {},
   "source": [
    "**Aufgbe A4:** Führen sie folgendenes Codefragment aus. Welche Informationen erhalten Sie? Welchen Datentype hat dieses Objekt?\n",
    "```python\n",
    "Out\n",
    "```\n",
    "\n"
   ]
  },
  {
   "cell_type": "markdown",
   "id": "03ddf85f",
   "metadata": {},
   "source": [
    "**Aufgabe A5:** Lassen das sie sich das zuerst das aktuelle Arbeitsverzeichnis und dann den Inhalt des aktuellen Arbeitsverzeichnis mittel eines Shell-Kommandos ausgeben!"
   ]
  },
  {
   "cell_type": "markdown",
   "id": "2c64659e",
   "metadata": {},
   "source": [
    "**Aufgabe A6:** Importieren sie numpy mit alias np! Nutzen Sie die Inline-Hilfe (inline help), um die Funktion numpy.arange zu verstehen.\\\n",
    "Verwenden die Funktion in einem selbsterdachten Minimalbeispiel!"
   ]
  },
  {
   "cell_type": "markdown",
   "id": "6c2da950",
   "metadata": {},
   "source": [
    "## B) Pandas: Laden der Daten und erste Übersicht"
   ]
  },
  {
   "cell_type": "markdown",
   "id": "1aad22ee",
   "metadata": {},
   "source": [
    "**Aufgabe B1:** Importieren Sie Numpy unter dem alias **np** und Pandas unter dem alisas **pd**!"
   ]
  },
  {
   "cell_type": "markdown",
   "id": "0329e8ec",
   "metadata": {},
   "source": [
    "**Aufgabe B2:** Laden Sie den Datensatz in der Datei \"autoscout24-germany-dataset.csv\" mit der Funktion \"pd.read_csv()\" ein und speichern sie es als Variable df ab."
   ]
  },
  {
   "cell_type": "markdown",
   "id": "57d9b4d2",
   "metadata": {},
   "source": [
    "**Aufgabe B3:** Zeigen Sie die fünf ersten und fünf letzten Zeilen des DataFrames an! (Hinweis: Nutze die Methoden \"head()\" und \"tail()\" des Dataframe-Objektes.) \n",
    "Lassen Sie anschließend die gesamten Dataframe anzeigen."
   ]
  },
  {
   "cell_type": "markdown",
   "id": "bd0f15ea",
   "metadata": {},
   "source": [
    "**Aufgabe B4:** Lassen sie sich das Attribute \"shape\" des df-Objektes anzeigen! Welche Informationen gibt Ihnen der Output?"
   ]
  },
  {
   "cell_type": "markdown",
   "id": "2fad0cf8",
   "metadata": {},
   "source": [
    "**Aufgabe B5:** Nutzen Sie die Methode \"info()\" zusammen des df-Objekt (Dataframe-Objekt). Welche Informationen gibt ihnen der Output? Sind diese Infors plausibel? Was fällt Ihnen be kritischer Betrachung dieser Infos auf?"
   ]
  },
  {
   "cell_type": "markdown",
   "id": "e7805999",
   "metadata": {},
   "source": [
    "**Aufgabe B6:** Nutzen Sie die Methode \"describe()\" zusammen des df-Objekt. Welche Informationen gibt ihnen der Output?"
   ]
  },
  {
   "cell_type": "markdown",
   "id": "893b6c3a",
   "metadata": {},
   "source": [
    "**Aufgabe B7:** Nutzen Sie die Methode \"describe()\" mit dem Argument \"include = ['object']\" des df-Objekt. Welche informationen gibt ihnen der Output jetzt? Was fällt Ihnen bei der Interpretation der Werte in der Zeile \"count\" auf? Können Sie damit berechnen, wie viele Wagen mit automatischer Gangschaltung im Datensatz vorhanden sind? "
   ]
  },
  {
   "cell_type": "markdown",
   "id": "945e1e83",
   "metadata": {},
   "source": [
    "**Aufgabe B8:** Geben sie eine Liste aller in der Spalte 'gear' vorkommenden Werte an!"
   ]
  },
  {
   "cell_type": "markdown",
   "id": "e2b00b17",
   "metadata": {},
   "source": [
    "**Aufgabe B9:** Geben Sie die Spalte 'gear' der Dataframes df einaml als Series und einmal als Dataframe zurück."
   ]
  },
  {
   "cell_type": "markdown",
   "id": "b853ac3b",
   "metadata": {},
   "source": [
    "**Aufgabe B10:** Geben Sie die Spalten 'make' und 'model' zurück."
   ]
  },
  {
   "cell_type": "markdown",
   "id": "dcc98b98",
   "metadata": {},
   "source": [
    "## C) Operationen und erste Auswertungen"
   ]
  },
  {
   "cell_type": "markdown",
   "id": "c30e13b7",
   "metadata": {},
   "source": [
    "**Aufgabe C1:** Nutzen Sie die Methode \"value_counts()\" der Serie-Objekte. Wiederholen dies mit dem Argument \"dropna=False\". Was bewirkt dies? Wiederholen dies jeweils mit dem Argument \"normalize = True\", um die relativen Häufigkeiten anzuzeigen."
   ]
  },
  {
   "cell_type": "markdown",
   "id": "ff9f0d03",
   "metadata": {},
   "source": [
    "**Aufgabe C2:** Nutzen Sie \"np.mean\" um den Mittelwert der Spalte \"price\" über den gesamten Datenbestand zu erhalten."
   ]
  },
  {
   "cell_type": "markdown",
   "id": "062b52ba",
   "metadata": {},
   "source": [
    "**Aufgabe C3:** Nutzen Sie die Methode \"sort_values()\" des Dataframes, um die Top 10 der günsigsten Gebrauchtwagen zurückzugeben."
   ]
  },
  {
   "cell_type": "markdown",
   "id": "813c5c9b",
   "metadata": {},
   "source": [
    "**Aufgabe C4:** Geben Sie einen Dataframe zurück, der nur dieselbetriebene Autos enthält und dessen Baujahr nach 2019 liegt. \\\n",
    "Berechnen Sie den mitteleren Preis für diese Autos!"
   ]
  },
  {
   "cell_type": "markdown",
   "id": "b82e2149",
   "metadata": {},
   "source": [
    "**Aufgabe C5 (optional):** Geben Sie einen Dataframe zurück, der nur Autos enthält, die entweder einerseits weniger als 30,000 Meilen gefahren sind oder andererseits einen Preis größer als 70,000 und eine manuelle Gangschaltung haben."
   ]
  },
  {
   "cell_type": "markdown",
   "id": "b12991af",
   "metadata": {},
   "source": [
    "**Aufgabe C6:** Nutzen Sie die Methode \"iloc()\" des DataFrames df, um die Zeilen 2 bis inkl. 9 und die Spalten 2 bis inkl. 4 von df zu erhalten."
   ]
  },
  {
   "cell_type": "markdown",
   "id": "1eab14a2",
   "metadata": {},
   "source": [
    "**Aufgabe C7:** Nutzen Sie die Methode \"loc()\" des DataFrames df, um die ersten 1000 Zeilen und die Spalten \"make\", \"model\" und \"price\" von df zu erhalten. Nutzen danach Sie die Methode \"iloc()\" des DataFrames df, um die ersten 1000 Zeilen und die Spalten \"make\", \"model\" und \"fuel\" von df zu erhalten. Vergleichen Sie die Ergebnisse."
   ]
  },
  {
   "cell_type": "markdown",
   "id": "e629a2ca",
   "metadata": {},
   "source": [
    "**Aufgabe C8:** Nutzen Sie nun die folgende Anweisung, um einen neuen Dataframe df2 zu erzeugen und wiederholen Sie die Schritte der Aufgabe C7 für diesen Dataframe. Was fällt beim Bergleich der Ergebnisse aus!\r\n",
    "```{python}\r\n",
    "df2 = df[df['make'] == 'Volkswagen']\r\n",
    "```"
   ]
  },
  {
   "cell_type": "markdown",
   "id": "f013acbd",
   "metadata": {},
   "source": [
    "**Aufgaben C9:** Wenden Sie die Methode \"groupby()\" des Dataframe df auf die Spalte 'gear' an. Was bekommen sie zurück? (Interieren sie mittels \"for i,n in enumerate(df.groupby('gear')):\" über das Objekt)\r\n",
    "```{python}\r\n",
    "df.groupby('gear')\r\n",
    "```"
   ]
  },
  {
   "cell_type": "markdown",
   "id": "2cc2b8b4",
   "metadata": {},
   "source": [
    "**Aufgaben C10:** Wenden Sie die Methode \"groupby()\" des Dataframe df auf die Spalte 'gear' an. Benutzen dann die Methode \"mean()\" des erhaltenen Objekts, um sich die Mittelwerte der Spalten gruppiert nach dern Werten der Spalte 'gear' berechnen zu lassen."
   ]
  },
  {
   "cell_type": "markdown",
   "id": "9af4731a",
   "metadata": {},
   "source": [
    "**Aufgaben C11 (optional):** Führen Sie das gleich wie in C10 durch, lassen Sie aber nur die gruppierten Informationen für die Spalten \"mileage\", \"price\" und \"hp\" ausgeben."
   ]
  },
  {
   "cell_type": "markdown",
   "id": "cf7458b4",
   "metadata": {},
   "source": [
    "**Aufgaben C12 (optional):** Gruppieren Sie nun nach den Werten der Spalte 'gear' und benutzen sie die Methode \"agg()\" um sich 'mean', und 'min' so wie 'max' anzeigen zu lassen."
   ]
  },
  {
   "cell_type": "markdown",
   "id": "5a053259",
   "metadata": {},
   "source": [
    "**Aufgaben C13 (optional):** Gruppieren Sie nun nach den Werten der Spalte 'gear' und verwenden für die Aggregation die Methode \"describe()\""
   ]
  },
  {
   "cell_type": "markdown",
   "id": "88b48033",
   "metadata": {},
   "source": [
    "**Aufgaben C14 (optional):** Bestimmen Sie den mittleren Preis aller Volkswagenmodelle mit Baujahr 2020 und ordnen Sie die Modelle nach dem mittelen Preis."
   ]
  },
  {
   "cell_type": "markdown",
   "id": "20d44cd9",
   "metadata": {},
   "source": [
    "**Aufgaben C15:** Erstellen Sie eine neue Spalte mit dem Namen \"used_young_cars\", welche einen boolean Wert \"True\" besitzt für alle Gebrauchtwagen, die älter sind als 2017 und \"False\" für alle Anderen."
   ]
  },
  {
   "cell_type": "markdown",
   "id": "c2a7cf54",
   "metadata": {},
   "source": [
    "**Aufgaben C16:** Nutzen Sie die Methode \"describe()\" jeweils einmal für den Teil des Dataframe an, bei welchem \"used_young_cars\" == True bzw.  und \"used_young_cars\" == False."
   ]
  },
  {
   "cell_type": "markdown",
   "id": "aecec0aa",
   "metadata": {},
   "source": [
    "**Aufgabe C17: (optional)** Wenden sie die Funktion \"len\" aud den Dateframe df an. Was erhalten Sie?"
   ]
  },
  {
   "cell_type": "markdown",
   "id": "1939d9d2",
   "metadata": {},
   "source": [
    "**Aufgabe C18: (optional)** Wenden df['model'].apply(len) an, um die Anzahl der Zeichen der Namen der Modelle zu erhalten. Was tut \"apply()\"? Warum funktioniert das so nicht? Betrachten sie die Ausgabe! Wie können Sie die Anzahl dennoch erhalten?"
   ]
  },
  {
   "cell_type": "markdown",
   "id": "b15c0da5",
   "metadata": {},
   "source": [
    "**Aufgabe C19: (optional)** Nutzen Sie die Methode \"apply()\" auf den gesamten Datenbestand in df, um alle Einträge aus Firmen mit die mit 'F' anfangen zurückzugeben."
   ]
  },
  {
   "cell_type": "markdown",
   "id": "a350559a",
   "metadata": {},
   "source": [
    "## D) Jupyter Notebook: Magic Commands  (optional)\n",
    "Magic Commands können sehr praktisch sein, sind aber weder für die Bedienung Jupyter Notebooks noch für diese Kurs notwendig!"
   ]
  },
  {
   "cell_type": "markdown",
   "id": "ac1ff2e9",
   "metadata": {},
   "source": [
    "**Aufgabe D1: (optional)**\n",
    "\n",
    "Lassen Sie sich alle \"magic commands\" anzeigen."
   ]
  },
  {
   "cell_type": "markdown",
   "id": "913f34e5",
   "metadata": {},
   "source": [
    "**Aufgabe D2: (optional)**\n",
    "\n",
    "Was bezwecken folgende Eingaben (magic comands)?\n",
    "- %who\n",
    "- %whos\n",
    "- %whos?\n",
    "- %quickref\n",
    "- %magic"
   ]
  },
  {
   "cell_type": "markdown",
   "id": "e93685da",
   "metadata": {},
   "source": [
    "**Aufgabe D3: (optional)**\n",
    "\n",
    "Sie wollen wissen, wie lange die Ausführung folgenden Codes dauert. Wie können Sie das erledigen? (Tipp: %%time)\n",
    "```{python}\n",
    "N = 100000\n",
    "x=0\n",
    "for i in range(1,N):\n",
    "    x+=i\n",
    "```\n",
    "Geben sie zusätzlich den finalen Wert von **x** an!"
   ]
  }
 ],
 "metadata": {
  "interpreter": {
   "hash": "5b9f437b41ee5b3d4cbe5dba79c551f4b03488fec6b5a5beb605549c6b94a6fe"
  },
  "kernelspec": {
   "display_name": "Python 3 (ipykernel)",
   "language": "python",
   "name": "python3"
  },
  "language_info": {
   "codemirror_mode": {
    "name": "ipython",
    "version": 3
   },
   "file_extension": ".py",
   "mimetype": "text/x-python",
   "name": "python",
   "nbconvert_exporter": "python",
   "pygments_lexer": "ipython3",
   "version": "3.8.8"
  }
 },
 "nbformat": 4,
 "nbformat_minor": 5
}
