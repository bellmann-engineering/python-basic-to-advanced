{
 "cells": [
  {
   "cell_type": "markdown",
   "source": [
    "# Übungsaufgaben\n",
    "# Coach Market: Selbstlernphase 1 - Woche 4"
   ],
   "metadata": {}
  },
  {
   "cell_type": "markdown",
   "source": [
    "## Übersicht\n",
    "\n",
    "Die folgenden Übung beschäftigen sich mit dem grundlegenden Umgang mit Jupyter Notebook und ersten Funktionen des Pakets \"pandas\".\n",
    "\n",
    "Sie üben Jupyter zu bedienen und lernen Datensätze mit dem Python Paket \"pandas\" zu laden und zu bearbeiten. Außerdem werden erste Fragestellungen aus den Datensätzen beantworten.\n",
    "Wir nutzen für diese Übung Datensätze von Autoscout24 (*autoscout24-germany-dataset.csv*), welches Informationen über dort angebotene Fahrzeuge enthält.\n",
    "\n",
    "Wir werden die folgenden Aufgabenblöcke bearbeiten:\n",
    "- **A:  Jupyter Notebook - Steuerung und Features**\n",
    "- **B:  Pandas - Einladen und Übersicht über die Daten**\n",
    "- **C:  Pandas - Operationen und erste deskriptive Auswertungen**\n",
    "- **D:  Jupyter - Notebook magic commands (optional)**\n",
    "\n",
    "Jede Aufgabe wurde in einer eigenen Zelle diese Notebooks beschrieben. Bitte fügen Sie direkt unter einer solchen Zelle, Zelle(n) für ihre Lösung ein!\n",
    "\n",
    "Tipp: [https://pandas.pydata.org/docs/reference/index.html](https://pandas.pydata.org/docs/reference/index.html) finden Sie weiterführende Informationen und Hilfe zu z.B. einzelnen Funktionen.\n",
    "\n",
    "Wenn noch nicht geschehen, installieren Sie bitte die benötigten Pakete (Pandas und Numpy)."
   ],
   "metadata": {}
  },
  {
   "cell_type": "markdown",
   "source": [
    "## A) Jupyter Notebooks: Steuerung und Features \r\n",
    "Keyboard Shortcuts sind nicht zwingend notwendig, um mit Jupyter Notebook zu arbeiten. Sie können die gleichen Funktionen über das Menü steuern. Dennoch ersparen Sie das oftmals lästiges Steuern mit der Maus, was in der Summe viel Zeit spart."
   ],
   "metadata": {}
  },
  {
   "cell_type": "markdown",
   "source": [
    "**Aufgabe A1:** \n",
    "\n",
    "- Erkunden Sie das Menu und verschaffen sich einen Überblick. Wichtige Keyboard Shortcuts des Command-Modes werden im Menu angezeigt.\n",
    "- Drücken Sie die Taste **H** im Command-Mode, um sich eine Übersicht der Shortcuts anzeigen zu lassen.\n",
    "- Was ist der Unterschied zwischen Command-Mode und Edit-Mode?\n",
    "- Versuchen Sie ein paar der Keyboard Shortcuts während der Übung zu verwenden (z.B.: Einfügen einer leeren Zelle unter der selektierten Zelle)."
   ],
   "metadata": {}
  },
  {
   "cell_type": "markdown",
   "source": [
    "**Aufgabe A2:** Fügen Sie eine neue Zelle direkt unter dieser Zelle ein. Geben Sie folgenden Code in der neuen Zelle ein. Starten Sie die Ausführung der Zelle mit SHIFT+ENTER und achten Sie auf die Ausgabe.\n",
    "```{python}\n",
    "x = 10\n",
    "y = 20\n",
    "x + y\n",
    "```"
   ],
   "metadata": {}
  },
  {
   "cell_type": "code",
   "execution_count": null,
   "source": [
    "x = 10\r\n",
    "y = 20\r\n",
    "x + y"
   ],
   "outputs": [],
   "metadata": {}
  },
  {
   "cell_type": "markdown",
   "source": [
    "**Ausgabe A3:** Fügen Sie eine weitere Zelle ein, starten Sie die neue Zelle mit dem folgenden Code und achten auf die Ausgabe. Was können Sie tun, um den Inhalt der Variablen **z** zu erhalten?\n",
    "```{python}\n",
    "x = 10\n",
    "y = 20\n",
    "z = x + y\n",
    "```"
   ],
   "metadata": {}
  },
  {
   "cell_type": "code",
   "execution_count": null,
   "source": [
    "# keine Ausgabe, da die letzte Zeile keinen Wert zurückgibt\r\n",
    "x = 10\r\n",
    "y = 20\r\n",
    "z = x + y"
   ],
   "outputs": [],
   "metadata": {}
  },
  {
   "cell_type": "code",
   "execution_count": null,
   "source": [
    "# Der Aufruf einer Variablen gibt jedoch zurück\r\n",
    "x = 10\r\n",
    "y = 20\r\n",
    "z = x + y\r\n",
    "z"
   ],
   "outputs": [],
   "metadata": {}
  },
  {
   "cell_type": "markdown",
   "source": [
    "**Aufgbe A4:** Führen sie folgendenes Codefragment aus. Welche Informationen erhalten Sie? Welchen Datentype hat dieses Objekt?\n",
    "```python\n",
    "Out\n",
    "```\n",
    "\n"
   ],
   "metadata": {}
  },
  {
   "cell_type": "code",
   "execution_count": null,
   "source": [
    "#Bisherige Ausgaben in Form eines Dictionary. Key ist der Index der Ausgabe.\r\n",
    "Out"
   ],
   "outputs": [],
   "metadata": {}
  },
  {
   "cell_type": "code",
   "execution_count": null,
   "source": [
    "# Ein Dictionary\r\n",
    "type(Out)"
   ],
   "outputs": [],
   "metadata": {}
  },
  {
   "cell_type": "markdown",
   "source": [
    "**Aufgabe A5:** Lassen das sie sich das zuerst das aktuelle Arbeitsverzeichnis und dann den Inhalt des aktuellen Arbeitsverzeichnis mittel eines Shell-Kommandos ausgeben!"
   ],
   "metadata": {}
  },
  {
   "cell_type": "code",
   "execution_count": null,
   "source": [
    "# akutelles Arbeitsverzeichnis\r\n",
    "# Für Windows\r\n",
    "!cd\r\n",
    "# Für Linux\r\n",
    "#!pwd"
   ],
   "outputs": [],
   "metadata": {
    "scrolled": false
   }
  },
  {
   "cell_type": "code",
   "execution_count": null,
   "source": [
    "# Inhalt des aktuellen Arbeitsverzeichnisses\r\n",
    "# Für Windows\r\n",
    "!dir\r\n",
    "\r\n",
    "# Für Linux\r\n",
    "#!ls"
   ],
   "outputs": [],
   "metadata": {
    "scrolled": true
   }
  },
  {
   "cell_type": "markdown",
   "source": [
    "**Aufgabe A6:** Importieren sie numpy mit alias np! Nutzen Sie die Inline-Hilfe (inline help), um die Funktion numpy.arange zu verstehen.\\\n",
    "Verwenden die Funktion in einem selbsterdachten Minimalbeispiel!"
   ],
   "metadata": {}
  },
  {
   "cell_type": "code",
   "execution_count": null,
   "source": [
    "import numpy as np\r\n",
    "np.arange?"
   ],
   "outputs": [],
   "metadata": {}
  },
  {
   "cell_type": "code",
   "execution_count": null,
   "source": [
    "#Zum Beispiel\r\n",
    "np.arange(2,20,5)"
   ],
   "outputs": [],
   "metadata": {}
  },
  {
   "cell_type": "markdown",
   "source": [
    "## B) Pandas: Laden der Daten und erste Übersicht"
   ],
   "metadata": {}
  },
  {
   "cell_type": "markdown",
   "source": [
    "**Aufgabe B1:** Importieren Sie Numpy unter dem alias **np** und Pandas unter dem alisas **pd**!"
   ],
   "metadata": {}
  },
  {
   "cell_type": "code",
   "execution_count": null,
   "source": [
    "import numpy as np\r\n",
    "import pandas as pd\r\n",
    "pd.set_option(\"display.precision\", 2) # zwei Nachkommastellen anzeigen"
   ],
   "outputs": [],
   "metadata": {}
  },
  {
   "cell_type": "markdown",
   "source": [
    "**Aufgabe B2:** Laden Sie den Datensatz in der Datei \"autoscout24-germany-dataset.csv\" mit der Funktion \"pd.read_csv()\" ein und speichern sie es als Variable df ab."
   ],
   "metadata": {}
  },
  {
   "cell_type": "code",
   "execution_count": null,
   "source": [
    "df = pd.read_csv(\"autoscout24-germany-dataset.csv\")"
   ],
   "outputs": [],
   "metadata": {}
  },
  {
   "cell_type": "markdown",
   "source": [
    "**Aufgabe B3:** Zeigen Sie die fünf ersten und fünf letzten Zeilen des DataFrames an! (Hinweis: Nutze die Methoden \"head()\" und \"tail()\" des Dataframe-Objektes.) \n",
    "Lassen Sie anschließend die gesamten Dataframe anzeigen."
   ],
   "metadata": {}
  },
  {
   "cell_type": "code",
   "execution_count": null,
   "source": [
    "# Sie erhalten einen ersten Eindruck der Daten und der Spaltennamen.\r\n",
    "# head() liefert die ersten Zeilen der Datentabelle.\r\n",
    "df.head()\r\n",
    "\r\n",
    "#siehe auch df.head?"
   ],
   "outputs": [],
   "metadata": {}
  },
  {
   "cell_type": "code",
   "execution_count": null,
   "source": [
    "# tail() liefert die letzten 5 Zeilen der Datentabelle\r\n",
    "df.tail()"
   ],
   "outputs": [],
   "metadata": {
    "scrolled": true
   }
  },
  {
   "cell_type": "code",
   "execution_count": null,
   "source": [
    "# Beachten Sie die Information über Anzahl von Zeilen und Spalten\r\n",
    "# Der Datensatz hat 46349 Zeilen.\r\n",
    "df"
   ],
   "outputs": [],
   "metadata": {}
  },
  {
   "cell_type": "markdown",
   "source": [
    "**Aufgabe B4:** Lassen sie sich das Attribute \"shape\" des df-Objektes anzeigen! Welche Informationen gibt Ihnen der Output?"
   ],
   "metadata": {}
  },
  {
   "cell_type": "code",
   "execution_count": null,
   "source": [
    "# shape() liefert die Anzahl der Zeilen und Spalten\r\n",
    "df.shape"
   ],
   "outputs": [],
   "metadata": {}
  },
  {
   "cell_type": "markdown",
   "source": [
    "**Aufgabe B5:** Nutzen Sie die Methode \"info()\" zusammen des df-Objekt (Dataframe-Objekt). Welche Informationen gibt ihnen der Output? Sind diese Infors plausibel? Was fällt Ihnen be kritischer Betrachung dieser Infos auf?"
   ],
   "metadata": {}
  },
  {
   "cell_type": "code",
   "execution_count": null,
   "source": [
    "# info() liefert Infos zu Spalten, Datentypen, Null-Werten und des Speicherverbrauchs\r\n",
    "# Der Datensatz hat 46349 Zeilen. Die Spalten model,gear und hp enthalten nicht in allen Spalten non-Null-Werte!\r\n",
    "df.info()"
   ],
   "outputs": [],
   "metadata": {}
  },
  {
   "cell_type": "markdown",
   "source": [
    "**Aufgabe B6:** Nutzen Sie die Methode \"describe()\" zusammen des df-Objekt. Welche Informationen gibt ihnen der Output?"
   ],
   "metadata": {}
  },
  {
   "cell_type": "code",
   "execution_count": null,
   "source": [
    "# describe() liefert statistische Informationen für Spalten mit numerischen Werten\r\n",
    "df.describe() \r\n",
    "# 25%, 50%, 70% percentile, standardabweichung"
   ],
   "outputs": [],
   "metadata": {}
  },
  {
   "cell_type": "markdown",
   "source": [
    "**Aufgabe B7:** Nutzen Sie die Methode \"describe()\" mit dem Argument \"include = ['object']\" des df-Objekt. Welche informationen gibt ihnen der Output jetzt? Was fällt Ihnen bei der Interpretation der Werte in der Zeile \"count\" auf? Können Sie damit berechnen, wie viele Wagen mit automatischer Gangschaltung im Datensatz vorhanden sind? "
   ],
   "metadata": {}
  },
  {
   "cell_type": "code",
   "execution_count": null,
   "source": [
    "# Sie erhalten Informationen zu Spalten mit nicht-numerischen Werten.\r\n",
    "# Die Zeile 'count' in dieser Tabelle zählt nur die non-Null-Werte!\r\n",
    "df.describe(include = ['object'])"
   ],
   "outputs": [],
   "metadata": {}
  },
  {
   "cell_type": "code",
   "execution_count": null,
   "source": [
    "# Anzahl Wagen mit automatischer Gangschaltung im Datenset.\r\n",
    "# Die fehlenden Werte der Spalte 'gear' sind zu beachten!\r\n",
    "(46167-30380)"
   ],
   "outputs": [],
   "metadata": {}
  },
  {
   "cell_type": "markdown",
   "source": [
    "**Aufgabe B8:** Geben sie eine Liste aller in der Spalte 'gear' vorkommenden Werte an!"
   ],
   "metadata": {}
  },
  {
   "cell_type": "code",
   "execution_count": null,
   "source": [
    "df['gear'].unique()"
   ],
   "outputs": [],
   "metadata": {}
  },
  {
   "cell_type": "markdown",
   "source": [
    "**Aufgabe B9:** Geben Sie die Spalte 'gear' der Dataframes df einaml als Series und einmal als Dataframe zurück."
   ],
   "metadata": {}
  },
  {
   "cell_type": "code",
   "execution_count": null,
   "source": [
    "# Spalte als Serie\r\n",
    "df['gear']"
   ],
   "outputs": [],
   "metadata": {}
  },
  {
   "cell_type": "code",
   "execution_count": null,
   "source": [
    "# Spalte als Dataframe\r\n",
    "df[['gear']]"
   ],
   "outputs": [],
   "metadata": {}
  },
  {
   "cell_type": "markdown",
   "source": [
    "**Aufgabe B10:** Geben Sie die Spalten 'make' und 'model' zurück."
   ],
   "metadata": {}
  },
  {
   "cell_type": "code",
   "execution_count": null,
   "source": [
    "# neuer Dataframe\r\n",
    "df[['model','make']]"
   ],
   "outputs": [],
   "metadata": {}
  },
  {
   "cell_type": "markdown",
   "source": [
    "## C) Operationen und erste Auswertungen"
   ],
   "metadata": {}
  },
  {
   "cell_type": "markdown",
   "source": [
    "**Aufgabe C1:** Nutzen Sie die Methode \"value_counts()\" der Serie-Objekte. Wiederholen dies mit dem Argument \"dropna=False\". Was bewirkt dies? Wiederholen dies jeweils mit dem Argument \"normalize = True\", um die relativen Häufigkeiten anzuzeigen."
   ],
   "metadata": {}
  },
  {
   "cell_type": "code",
   "execution_count": null,
   "source": [
    "# Häufigkeit einzelner Werte der Spalte 'gear'\r\n",
    "df['gear'].value_counts() "
   ],
   "outputs": [],
   "metadata": {}
  },
  {
   "cell_type": "code",
   "execution_count": null,
   "source": [
    "# NaNs werden auch gezählt!\r\n",
    "df['gear'].value_counts(dropna = False)"
   ],
   "outputs": [],
   "metadata": {}
  },
  {
   "cell_type": "code",
   "execution_count": null,
   "source": [
    "# relative Häufigkeit\r\n",
    "df['gear'].value_counts(normalize = True) "
   ],
   "outputs": [],
   "metadata": {}
  },
  {
   "cell_type": "markdown",
   "source": [
    "**Aufgabe C2:** Nutzen Sie \"np.mean\" um den Mittelwert der Spalte \"price\" über den gesamten Datenbestand zu erhalten."
   ],
   "metadata": {}
  },
  {
   "cell_type": "code",
   "execution_count": null,
   "source": [
    "# Mittlerer Preis\r\n",
    "print(df['price'].mean())\r\n",
    "print(df['price'].agg(np.mean))\r\n",
    "np.mean(df['price'])"
   ],
   "outputs": [],
   "metadata": {}
  },
  {
   "cell_type": "markdown",
   "source": [
    "**Aufgabe C3:** Nutzen Sie die Methode \"sort_values()\" des Dataframes, um die Top 10 der günsigsten Gebrauchtwagen zurückzugeben."
   ],
   "metadata": {}
  },
  {
   "cell_type": "code",
   "execution_count": null,
   "source": [
    "# Top 10 der günsigsten Gebrauchtwagen:\r\n",
    "df.sort_values(by = ['offerType', 'price'], ascending = [False, True]).head(10) "
   ],
   "outputs": [],
   "metadata": {
    "scrolled": true
   }
  },
  {
   "cell_type": "markdown",
   "source": [
    "**Aufgabe C4:** Geben Sie einen Dataframe zurück, der nur dieselbetriebene Autos enthält und dessen Baujahr nach 2019 liegt. \\\n",
    "Berechnen Sie den mitteleren Preis für diese Autos!"
   ],
   "metadata": {}
  },
  {
   "cell_type": "code",
   "execution_count": null,
   "source": [
    "# Welche Autos sind dieselbetrieben und nach 2019 gebaut worden?\r\n",
    "df[(df['fuel'] == 'Diesel') &  (df['year'] > 2019)]"
   ],
   "outputs": [],
   "metadata": {}
  },
  {
   "cell_type": "code",
   "execution_count": null,
   "source": [
    "# # Welche mittleren Preis haben die Autos, welche dieselbetrieben und nach dem Jahr 2019 gebaut worden sind?\r\n",
    "df[(df['fuel'] == 'Diesel') &  (df['year'] > 2019) ]['price'].mean()"
   ],
   "outputs": [],
   "metadata": {}
  },
  {
   "cell_type": "markdown",
   "source": [
    "**Aufgabe C5 (optional):** Geben Sie einen Dataframe zurück, der nur Autos enthält, die entweder einerseits weniger als 30,000 Meilen gefahren sind oder andererseits einen Preis größer als 70,000 und eine manuelle Gangschaltung haben."
   ],
   "metadata": {}
  },
  {
   "cell_type": "code",
   "execution_count": null,
   "source": [
    "# Welche Autos sind weniger als 30,000 Meilen gefahren oder haben einen Preis größer als 70,000 und haben eine manuelle Gangschaltung?\r\n",
    "# Beachten Sie den Vorrang logischer Operatoren!\r\n",
    "df[(df['mileage'] < 30000) | (df['price'] > 70000) & (df['gear'] == 'Manual')]\r\n",
    "\r\n",
    "# Beachten Sie den Vorrang logischer Operatoren!\r\n",
    "# Vergleichen Sie zu:\r\n",
    "#df[((df['mileage'] < 30000) | (df['price'] > 70000)) & (df['gear'] == 'Manual')]"
   ],
   "outputs": [],
   "metadata": {}
  },
  {
   "cell_type": "markdown",
   "source": [
    "**Aufgabe C6:** Nutzen Sie die Methode \"iloc()\" des DataFrames df, um die Zeilen 2 bis inkl. 9 und die Spalten 2 bis inkl. 4 von df zu erhalten."
   ],
   "metadata": {}
  },
  {
   "cell_type": "code",
   "execution_count": null,
   "source": [
    "df.iloc[2:10, 2:5]"
   ],
   "outputs": [],
   "metadata": {}
  },
  {
   "cell_type": "markdown",
   "source": [
    "**Aufgabe C7:** Nutzen Sie die Methode \"loc()\" des DataFrames df, um die ersten 1000 Zeilen und die Spalten \"make\", \"model\" und \"price\" von df zu erhalten. Nutzen danach Sie die Methode \"iloc()\" des DataFrames df, um die ersten 1000 Zeilen und die Spalten \"make\", \"model\" und \"fuel\" von df zu erhalten. Vergleichen Sie die Ergebnisse."
   ],
   "metadata": {}
  },
  {
   "cell_type": "code",
   "execution_count": null,
   "source": [
    "# Slicing der Zeilen von 0:999\r\n",
    "df.loc[:999, ['make', 'model', 'price']]"
   ],
   "outputs": [],
   "metadata": {
    "scrolled": false
   }
  },
  {
   "cell_type": "code",
   "execution_count": null,
   "source": [
    "# Slicing der Zeilen von 0:1000\r\n",
    "df.iloc[:1000, 1:4] \r\n",
    "\r\n",
    "# andere Lösung ohne Slicing der Spalten\r\n",
    "#df.iloc[:1000, [1,2,3]] "
   ],
   "outputs": [],
   "metadata": {}
  },
  {
   "cell_type": "markdown",
   "source": [
    "**Aufgabe C8:** Nutzen Sie nun die folgende Anweisung, um einen neuen Dataframe df2 zu erzeugen und wiederholen Sie die Schritte der Aufgabe C7 für diesen Dataframe. Was fällt beim Bergleich der Ergebnisse aus!\r\n",
    "```{python}\r\n",
    "df2 = df[df['make'] == 'Volkswagen']\r\n",
    "```"
   ],
   "metadata": {}
  },
  {
   "cell_type": "code",
   "execution_count": null,
   "source": [
    "df[df['make']=='Volkswagen'].loc[:999, ['make', 'model', 'price']]\r\n",
    "# Der Dataframe enthält 156 Zeilen! "
   ],
   "outputs": [],
   "metadata": {}
  },
  {
   "cell_type": "code",
   "execution_count": null,
   "source": [
    "df[df['make']=='Volkswagen'].iloc[:1000, [1,2,6]] \r\n",
    "# Der Dataframe enthält 1000 Zeilen!"
   ],
   "outputs": [],
   "metadata": {}
  },
  {
   "cell_type": "markdown",
   "source": [
    "**Aufgaben C9:** Wenden Sie die Methode \"groupby()\" des Dataframe df auf die Spalte 'gear' an. Was bekommen sie zurück? (Interieren sie mittels \"for i,n in enumerate(df.groupby('gear')):\" über das Objekt)\r\n",
    "```{python}\r\n",
    "df.groupby('gear')\r\n",
    "```"
   ],
   "metadata": {}
  },
  {
   "cell_type": "code",
   "execution_count": null,
   "source": [
    "#Dieses Aufruf gibt ein GroupBy-Objekt zurück\r\n",
    "df.groupby(['gear'])"
   ],
   "outputs": [],
   "metadata": {}
  },
  {
   "cell_type": "code",
   "execution_count": null,
   "source": [
    "# Über das Groupby-Objekt (pandas.core.groupby.generic.DataFrameGroupBy) kann man iterieren. \r\n",
    "# Es enthält den jeweiligen Wert der gruppierten Spalte und einen Dataframe\r\n",
    "for i,n in enumerate(df.groupby('gear')):\r\n",
    "    print('Gruppe:',i)\r\n",
    "    print(' 1.Element:\\n',type(n[0]))#,n[0])\r\n",
    "    print(' 2.Element:\\n',type(n[1]))#,n[1])"
   ],
   "outputs": [],
   "metadata": {}
  },
  {
   "cell_type": "markdown",
   "source": [
    "**Aufgaben C10:** Wenden Sie die Methode \"groupby()\" des Dataframe df auf die Spalte 'gear' an. Benutzen dann die Methode \"mean()\" des erhaltenen Objekts, um sich die Mittelwerte der Spalten gruppiert nach dern Werten der Spalte 'gear' berechnen zu lassen."
   ],
   "metadata": {}
  },
  {
   "cell_type": "code",
   "execution_count": null,
   "source": [
    "# Anwendung von desribe auf alle Spalten\r\n",
    "df.groupby(['gear']).mean()"
   ],
   "outputs": [],
   "metadata": {}
  },
  {
   "cell_type": "markdown",
   "source": [
    "**Aufgaben C11 (optional):** Führen Sie das gleich wie in C10 durch, lassen Sie aber nur die gruppierten Informationen für die Spalten \"mileage\", \"price\" und \"hp\" ausgeben."
   ],
   "metadata": {}
  },
  {
   "cell_type": "code",
   "execution_count": null,
   "source": [
    "# Anwendung von describe auf ausgewählte Spalten.\r\n",
    "df.groupby(['gear'])[['mileage', 'price', 'hp']].mean()"
   ],
   "outputs": [],
   "metadata": {
    "scrolled": true
   }
  },
  {
   "cell_type": "markdown",
   "source": [
    "**Aufgaben C12 (optional):** Gruppieren Sie nun nach den Werten der Spalte 'gear' und benutzen sie die Methode \"agg()\" um sich 'mean', und 'min' so wie 'max' anzeigen zu lassen."
   ],
   "metadata": {}
  },
  {
   "cell_type": "code",
   "execution_count": null,
   "source": [
    "# Gruppieren der Daten in df nach den Werten der Spalte 'gear' und ermitteln von mean, min und max.\r\n",
    "df.groupby(['gear']).agg(['mean', 'min', 'max'])"
   ],
   "outputs": [],
   "metadata": {}
  },
  {
   "cell_type": "markdown",
   "source": [
    "**Aufgaben C13 (optional):** Gruppieren Sie nun nach den Werten der Spalte 'gear' und verwenden für die Aggregation die Methode \"describe()\""
   ],
   "metadata": {}
  },
  {
   "cell_type": "code",
   "execution_count": null,
   "source": [
    "# Erhöhen der maximal angezeigten Spalten\r\n",
    "pd.set_option('display.max_columns', 40)\r\n",
    "# Durchschnittlicher Preis eines Autos per Schaltart im Datenbestand\r\n",
    "df.groupby(['gear']).describe()"
   ],
   "outputs": [],
   "metadata": {}
  },
  {
   "cell_type": "markdown",
   "source": [
    "**Aufgaben C14 (optional):** Bestimmen Sie den mittleren Preis aller Volkswagenmodelle mit Baujahr 2020 und ordnen Sie die Modelle nach dem mittelen Preis."
   ],
   "metadata": {}
  },
  {
   "cell_type": "code",
   "execution_count": null,
   "source": [
    "# Durchschnittlicher Preis eines Models Volkswagen 2020 sortiert nach durchschnittlichem Preis\r\n",
    "df[(df['make']=='Volkswagen') & (df.year == 2020)].groupby(['make','model'])['price'].mean().sort_values()"
   ],
   "outputs": [],
   "metadata": {}
  },
  {
   "cell_type": "code",
   "execution_count": null,
   "source": [
    "# Durchschnittlicher Preis eines Models Volkswagen 2020 sortiert nach durchschnittlichem Preis \r\n",
    "# mit Anzahl der Wagen im Datenbestand\r\n",
    "# Beispiel hier unter Verwendung von x als \"Hilfsvariabele\" \r\n",
    "x = df[(df['make']=='Volkswagen') & (df.year == 2020)].groupby(['make','model'])['price'].agg(['mean','size'])\r\n",
    "x = x.reset_index()\r\n",
    "x = x.rename(columns={'mean':'mean_price','size':'number_of_car'})\r\n",
    "x = x.sort_values(by='mean_price')\r\n",
    "x"
   ],
   "outputs": [],
   "metadata": {}
  },
  {
   "cell_type": "markdown",
   "source": [
    "**Aufgaben C15:** Erstellen Sie eine neue Spalte mit dem Namen \"used_young_cars\", welche einen boolean Wert \"True\" besitzt für alle Gebrauchtwagen, die älter sind als 2017 und \"False\" für alle Anderen."
   ],
   "metadata": {}
  },
  {
   "cell_type": "code",
   "execution_count": null,
   "source": [
    "# Erstellen einer neuen Spalte 'used_young_cars': \r\n",
    "df['used_young_cars'] = (df['year'] > 2017) & (df['offerType'] == 'Used')\r\n",
    "df"
   ],
   "outputs": [],
   "metadata": {}
  },
  {
   "cell_type": "markdown",
   "source": [
    "**Aufgaben C16:** Nutzen Sie die Methode \"describe()\" jeweils einmal für den Teil des Dataframe an, bei welchem \"used_young_cars\" == True bzw.  und \"used_young_cars\" == False."
   ],
   "metadata": {}
  },
  {
   "cell_type": "code",
   "execution_count": null,
   "source": [
    "df[df['used_young_cars'] == True].describe()"
   ],
   "outputs": [],
   "metadata": {}
  },
  {
   "cell_type": "code",
   "execution_count": null,
   "source": [
    "df[df['used_young_cars'] == False].describe()"
   ],
   "outputs": [],
   "metadata": {
    "scrolled": true
   }
  },
  {
   "cell_type": "markdown",
   "source": [
    "**Aufgabe C17: (optional)** Wenden sie die Funktion \"len\" aud den Dateframe df an. Was erhalten Sie?"
   ],
   "metadata": {}
  },
  {
   "cell_type": "code",
   "execution_count": null,
   "source": [
    "#Man erhält die Anzahl der Zeilen.\r\n",
    "len(df)"
   ],
   "outputs": [],
   "metadata": {}
  },
  {
   "cell_type": "markdown",
   "source": [
    "**Aufgabe C18: (optional)** Wenden df['model'].apply(len) an, um die Anzahl der Zeichen der Namen der Modelle zu erhalten. Was tut \"apply()\"? Warum funktioniert das so nicht? Betrachten sie die Ausgabe! Wie können Sie die Anzahl dennoch erhalten?"
   ],
   "metadata": {}
  },
  {
   "cell_type": "code",
   "execution_count": null,
   "source": [
    "# Sie eine Fehlermeldung!\r\n",
    "# Die Modellbezeichung mancher Modelle ist eine Zahl (zwar vom Datentype Object, aber eine Zahl), für welche len() nicht definiert ist.\r\n",
    "df['model'].apply(len)"
   ],
   "outputs": [],
   "metadata": {}
  },
  {
   "cell_type": "code",
   "execution_count": null,
   "source": [
    "# Ändert man den Datentype aller Werte der Spalte 'model' zu String, ist das Problem behoben.\r\n",
    "df3 = df[['make','model']].copy()\r\n",
    "df3['Länge'] = df3['model'].astype('str').apply(len)\r\n",
    "df3"
   ],
   "outputs": [],
   "metadata": {}
  },
  {
   "cell_type": "markdown",
   "source": [
    "**Aufgabe C19: (optional)** Nutzen Sie die Methode \"apply()\" auf den gesamten Datenbestand in df, um alle Einträge aus Firmen mit die mit 'F' anfangen zurückzugeben."
   ],
   "metadata": {}
  },
  {
   "cell_type": "code",
   "execution_count": null,
   "source": [
    "# Wählt alle Einträge aus Firmen mit die mit 'F' anfangen aus\r\n",
    "df[df['make'].apply(lambda make: make[0] == 'F')]"
   ],
   "outputs": [],
   "metadata": {}
  },
  {
   "cell_type": "markdown",
   "source": [
    "## D) Jupyter Notebook: Magic Commands  (optional)\n",
    "Magic Commands können sehr praktisch sein, sind aber weder für die Bedienung Jupyter Notebooks noch für diese Kurs notwendig!"
   ],
   "metadata": {}
  },
  {
   "cell_type": "markdown",
   "source": [
    "**Aufgabe D1: (optional)**\n",
    "\n",
    "Lassen Sie sich alle \"magic commands\" anzeigen."
   ],
   "metadata": {}
  },
  {
   "cell_type": "code",
   "execution_count": null,
   "source": [
    "#Übersicht über alle magic commands\r\n",
    "%lsmagic"
   ],
   "outputs": [],
   "metadata": {}
  },
  {
   "cell_type": "markdown",
   "source": [
    "**Aufgabe D2: (optional)**\n",
    "\n",
    "Was bezwecken folgende Eingaben (magic comands)?\n",
    "- %who\n",
    "- %whos\n",
    "- %whos?\n",
    "- %quickref\n",
    "- %magic"
   ],
   "metadata": {}
  },
  {
   "cell_type": "code",
   "execution_count": null,
   "source": [
    "#Anzeige der momentan vorhandenen Variablen\r\n",
    "%who"
   ],
   "outputs": [],
   "metadata": {}
  },
  {
   "cell_type": "code",
   "execution_count": null,
   "source": [
    "#Übersicht der momentanen Variablen und ihrer Belegung\r\n",
    "%whos"
   ],
   "outputs": [],
   "metadata": {}
  },
  {
   "cell_type": "code",
   "execution_count": null,
   "source": [
    "#Inline help für %whos\r\n",
    "%whos?"
   ],
   "outputs": [],
   "metadata": {}
  },
  {
   "cell_type": "code",
   "execution_count": null,
   "source": [
    "#Kurzübersicht über magic commands\r\n",
    "%quickref"
   ],
   "outputs": [],
   "metadata": {}
  },
  {
   "cell_type": "code",
   "execution_count": null,
   "source": [
    "#Übersicht über alle magic commands\r\n",
    "%magic"
   ],
   "outputs": [],
   "metadata": {}
  },
  {
   "cell_type": "markdown",
   "source": [
    "**Aufgabe D3: (optional)**\n",
    "\n",
    "Sie wollen wissen, wie lange die Ausführung folgenden Codes dauert. Wie können Sie das erledigen? (Tipp: %%time)\n",
    "```{python}\n",
    "N = 100000\n",
    "x=0\n",
    "for i in range(1,N):\n",
    "    x+=i\n",
    "```\n",
    "Geben sie zusätzlich den finalen Wert von **x** an!"
   ],
   "metadata": {}
  },
  {
   "cell_type": "code",
   "execution_count": null,
   "source": [
    "%%time\r\n",
    "N = 1000000\r\n",
    "x=0\r\n",
    "for i in range(1,N):\r\n",
    "    x+=i\r\n",
    "x"
   ],
   "outputs": [],
   "metadata": {}
  },
  {
   "cell_type": "code",
   "execution_count": null,
   "source": [],
   "outputs": [],
   "metadata": {}
  }
 ],
 "metadata": {
  "interpreter": {
   "hash": "39bf32ff90485b097d5e7420d1671d646599cb1903e73fc8941331240a71e111"
  },
  "kernelspec": {
   "name": "python3",
   "display_name": "Python 3.8.8 64-bit ('work': conda)"
  },
  "language_info": {
   "codemirror_mode": {
    "name": "ipython",
    "version": 3
   },
   "file_extension": ".py",
   "mimetype": "text/x-python",
   "name": "python",
   "nbconvert_exporter": "python",
   "pygments_lexer": "ipython3",
   "version": "3.8.8"
  }
 },
 "nbformat": 4,
 "nbformat_minor": 5
}