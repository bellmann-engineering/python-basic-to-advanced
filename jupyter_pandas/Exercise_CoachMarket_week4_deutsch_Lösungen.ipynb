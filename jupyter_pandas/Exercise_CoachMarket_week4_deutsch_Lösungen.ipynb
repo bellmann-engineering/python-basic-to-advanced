{
 "cells": [
  {
   "cell_type": "markdown",
   "id": "e13aefeb",
   "metadata": {},
   "source": [
    "# Übungsaufgaben\n",
    "# Coach Market: Selbstlernphase 1 - Woche 4"
   ]
  },
  {
   "cell_type": "markdown",
   "id": "70cb2873",
   "metadata": {},
   "source": [
    "## Übersicht\n",
    "\n",
    "Die folgenden Übung beschäftigen sich mit dem grundlegenden Umgang mit Jupyter Notebook und ersten Funktionen des Pakets \"pandas\".\n",
    "\n",
    "Sie üben Jupyter zu bedienen und lernen Datensätze mit dem Python Paket \"pandas\" zu laden und zu bearbeiten. Außerdem werden erste Fragestellungen aus den Datensätzen beantworten.\n",
    "Wir nutzen für diese Übung Datensätze von Autoscout24 (*autoscout24-germany-dataset.csv*), welches Informationen über dort angebotene Fahrzeuge enthält.\n",
    "\n",
    "Wir werden die folgenden Aufgabenblöcke bearbeiten:\n",
    "- **A:  Jupyter Notebook - Steuerung und Features**\n",
    "- **B:  Pandas - Einladen und Übersicht über die Daten**\n",
    "- **C:  Pandas - Operationen und erste deskriptive Auswertungen**\n",
    "- **D:  Jupyter - Notebook magic commands (optional)**\n",
    "\n",
    "Jede Aufgabe wurde in einer eigenen Zelle diese Notebooks beschrieben. Bitte fügen Sie direkt unter einer solchen Zelle, Zelle(n) für ihre Lösung ein!\n",
    "\n",
    "Tipp: [https://pandas.pydata.org/docs/reference/index.html](https://pandas.pydata.org/docs/reference/index.html) finden Sie weiterführende Informationen und Hilfe zu z.B. einzelnen Funktionen.\n",
    "\n",
    "Wenn noch nicht geschehen, installieren Sie bitte die benötigten Pakete (Pandas und Numpy)."
   ]
  },
  {
   "cell_type": "markdown",
   "id": "5edc6c0a",
   "metadata": {},
   "source": [
    "## A) Jupyter Notebooks: Steuerung und Features \r\n",
    "Keyboard Shortcuts sind nicht zwingend notwendig, um mit Jupyter Notebook zu arbeiten. Sie können die gleichen Funktionen über das Menü steuern. Dennoch ersparen Sie das oftmals lästiges Steuern mit der Maus, was in der Summe viel Zeit spart."
   ]
  },
  {
   "cell_type": "markdown",
   "id": "a22e48bb",
   "metadata": {},
   "source": [
    "**Aufgabe A1:** \n",
    "\n",
    "- Erkunden Sie das Menu und verschaffen sich einen Überblick. Wichtige Keyboard Shortcuts des Command-Modes werden im Menu angezeigt.\n",
    "- Drücken Sie die Taste **H** im Command-Mode, um sich eine Übersicht der Shortcuts anzeigen zu lassen.\n",
    "- Was ist der Unterschied zwischen Command-Mode und Edit-Mode?\n",
    "- Versuchen Sie ein paar der Keyboard Shortcuts während der Übung zu verwenden (z.B.: Einfügen einer leeren Zelle unter der selektierten Zelle)."
   ]
  },
  {
   "cell_type": "markdown",
   "id": "7dfede29",
   "metadata": {},
   "source": [
    "**Aufgabe A2:** Fügen Sie eine neue Zelle direkt unter dieser Zelle ein. Geben Sie folgenden Code in der neuen Zelle ein. Starten Sie die Ausführung der Zelle mit SHIFT+ENTER und achten Sie auf die Ausgabe.\n",
    "```{python}\n",
    "x = 10\n",
    "y = 20\n",
    "x + y\n",
    "```"
   ]
  },
  {
   "cell_type": "code",
   "execution_count": null,
   "id": "388df70f",
   "metadata": {},
   "outputs": [],
   "source": [
    "x = 10\r\n",
    "y = 20\r\n",
    "x + y"
   ]
  },
  {
   "cell_type": "markdown",
   "id": "ecaeee82",
   "metadata": {},
   "source": [
    "**Ausgabe A3:** Fügen Sie eine weitere Zelle ein, starten Sie die neue Zelle mit dem folgenden Code und achten auf die Ausgabe. Was können Sie tun, um den Inhalt der Variablen **z** zu erhalten?\n",
    "```{python}\n",
    "x = 10\n",
    "y = 20\n",
    "z = x + y\n",
    "```"
   ]
  },
  {
   "cell_type": "code",
   "execution_count": null,
   "id": "0c129934",
   "metadata": {},
   "outputs": [],
   "source": [
    "# keine Ausgabe, da die letzte Zeile keinen Wert zurückgibt\r\n",
    "x = 10\r\n",
    "y = 20\r\n",
    "z = x + y"
   ]
  },
  {
   "cell_type": "code",
   "execution_count": null,
   "id": "a7a635c3",
   "metadata": {},
   "outputs": [],
   "source": [
    "# Der Aufruf einer Variablen gibt jedoch zurück\r\n",
    "x = 10\r\n",
    "y = 20\r\n",
    "z = x + y\r\n",
    "z"
   ]
  },
  {
   "cell_type": "markdown",
   "id": "d4bc6511",
   "metadata": {},
   "source": [
    "**Aufgbe A4:** Führen sie folgendenes Codefragment aus. Welche Informationen erhalten Sie? Welchen Datentype hat dieses Objekt?\n",
    "```python\n",
    "Out\n",
    "```\n",
    "\n"
   ]
  },
  {
   "cell_type": "code",
   "execution_count": null,
   "id": "b5acad39",
   "metadata": {},
   "outputs": [],
   "source": [
    "#Bisherige Ausgaben in Form eines Dictionary. Key ist der Index der Ausgabe.\r\n",
    "Out"
   ]
  },
  {
   "cell_type": "code",
   "execution_count": null,
   "id": "96386c20",
   "metadata": {},
   "outputs": [],
   "source": [
    "# Ein Dictionary\r\n",
    "type(Out)"
   ]
  },
  {
   "cell_type": "markdown",
   "id": "810549d3",
   "metadata": {},
   "source": [
    "**Aufgabe A5:** Lassen das sie sich das zuerst das aktuelle Arbeitsverzeichnis und dann den Inhalt des aktuellen Arbeitsverzeichnis mittel eines Shell-Kommandos ausgeben!"
   ]
  },
  {
   "cell_type": "code",
   "execution_count": null,
   "id": "15039ee3",
   "metadata": {},
   "outputs": [],
   "source": [
    "# akutelles Arbeitsverzeichnis\r\n",
    "# Für Windows\r\n",
    "!cd\r\n",
    "# Für Linux\r\n",
    "#!pwd"
   ]
  },
  {
   "cell_type": "code",
   "execution_count": null,
   "id": "988b9e12",
   "metadata": {
    "scrolled": true
   },
   "outputs": [],
   "source": [
    "# Inhalt des aktuellen Arbeitsverzeichnisses\r\n",
    "# Für Windows\r\n",
    "!dir\r\n",
    "\r\n",
    "# Für Linux\r\n",
    "#!ls"
   ]
  },
  {
   "cell_type": "markdown",
   "id": "d9893f5a",
   "metadata": {},
   "source": [
    "**Aufgabe A6:** Importieren sie numpy mit alias np! Nutzen Sie die Inline-Hilfe (inline help), um die Funktion numpy.arange zu verstehen.\\\n",
    "Verwenden die Funktion in einem selbsterdachten Minimalbeispiel!"
   ]
  },
  {
   "cell_type": "code",
   "execution_count": null,
   "id": "dc51c211",
   "metadata": {},
   "outputs": [],
   "source": [
    "import numpy as np\r\n",
    "np.arange?"
   ]
  },
  {
   "cell_type": "code",
   "execution_count": null,
   "id": "ac44e940",
   "metadata": {},
   "outputs": [],
   "source": [
    "#Zum Beispiel\r\n",
    "np.arange(2,20,5)"
   ]
  },
  {
   "cell_type": "markdown",
   "id": "aca2195b",
   "metadata": {},
   "source": [
    "## B) Pandas: Laden der Daten und erste Übersicht"
   ]
  },
  {
   "cell_type": "markdown",
   "id": "e42f58f7",
   "metadata": {},
   "source": [
    "**Aufgabe B1:** Importieren Sie Numpy unter dem alias **np** und Pandas unter dem alisas **pd**!"
   ]
  },
  {
   "cell_type": "code",
   "execution_count": 2,
   "id": "a6b0c135",
   "metadata": {},
   "outputs": [],
   "source": [
    "import numpy as np\r\n",
    "import pandas as pd\r\n",
    "pd.set_option(\"display.precision\", 2) # zwei Nachkommastellen anzeigen"
   ]
  },
  {
   "cell_type": "markdown",
   "id": "b087aa95",
   "metadata": {},
   "source": [
    "**Aufgabe B2:** Laden Sie den Datensatz in der Datei \"autoscout24-germany-dataset.csv\" mit der Funktion \"pd.read_csv()\" ein und speichern sie es als Variable df ab."
   ]
  },
  {
   "cell_type": "code",
   "execution_count": 3,
   "id": "abe56dfa",
   "metadata": {},
   "outputs": [],
   "source": [
    "df = pd.read_csv(\"autoscout24-germany-dataset.csv\")"
   ]
  },
  {
   "cell_type": "markdown",
   "id": "6455dde4",
   "metadata": {},
   "source": [
    "**Aufgabe B3:** Zeigen Sie die fünf ersten und fünf letzten Zeilen des DataFrames an! (Hinweis: Nutze die Methoden \"head()\" und \"tail()\" des Dataframe-Objektes.) \n",
    "Lassen Sie anschließend die gesamten Dataframe anzeigen."
   ]
  },
  {
   "cell_type": "code",
   "execution_count": 4,
   "id": "5275f7ac",
   "metadata": {},
   "outputs": [
    {
     "data": {
      "text/html": [
       "<div>\n",
       "<style scoped>\n",
       "    .dataframe tbody tr th:only-of-type {\n",
       "        vertical-align: middle;\n",
       "    }\n",
       "\n",
       "    .dataframe tbody tr th {\n",
       "        vertical-align: top;\n",
       "    }\n",
       "\n",
       "    .dataframe thead th {\n",
       "        text-align: right;\n",
       "    }\n",
       "</style>\n",
       "<table border=\"1\" class=\"dataframe\">\n",
       "  <thead>\n",
       "    <tr style=\"text-align: right;\">\n",
       "      <th></th>\n",
       "      <th>mileage</th>\n",
       "      <th>make</th>\n",
       "      <th>model</th>\n",
       "      <th>fuel</th>\n",
       "      <th>gear</th>\n",
       "      <th>offerType</th>\n",
       "      <th>price</th>\n",
       "      <th>hp</th>\n",
       "      <th>year</th>\n",
       "    </tr>\n",
       "  </thead>\n",
       "  <tbody>\n",
       "    <tr>\n",
       "      <th>0</th>\n",
       "      <td>235000</td>\n",
       "      <td>BMW</td>\n",
       "      <td>316</td>\n",
       "      <td>Diesel</td>\n",
       "      <td>Manual</td>\n",
       "      <td>Used</td>\n",
       "      <td>6800</td>\n",
       "      <td>116.0</td>\n",
       "      <td>2011</td>\n",
       "    </tr>\n",
       "    <tr>\n",
       "      <th>1</th>\n",
       "      <td>92800</td>\n",
       "      <td>Volkswagen</td>\n",
       "      <td>Golf</td>\n",
       "      <td>Gasoline</td>\n",
       "      <td>Manual</td>\n",
       "      <td>Used</td>\n",
       "      <td>6877</td>\n",
       "      <td>122.0</td>\n",
       "      <td>2011</td>\n",
       "    </tr>\n",
       "    <tr>\n",
       "      <th>2</th>\n",
       "      <td>149300</td>\n",
       "      <td>SEAT</td>\n",
       "      <td>Exeo</td>\n",
       "      <td>Gasoline</td>\n",
       "      <td>Manual</td>\n",
       "      <td>Used</td>\n",
       "      <td>6900</td>\n",
       "      <td>160.0</td>\n",
       "      <td>2011</td>\n",
       "    </tr>\n",
       "    <tr>\n",
       "      <th>3</th>\n",
       "      <td>96200</td>\n",
       "      <td>Renault</td>\n",
       "      <td>Megane</td>\n",
       "      <td>Gasoline</td>\n",
       "      <td>Manual</td>\n",
       "      <td>Used</td>\n",
       "      <td>6950</td>\n",
       "      <td>110.0</td>\n",
       "      <td>2011</td>\n",
       "    </tr>\n",
       "    <tr>\n",
       "      <th>4</th>\n",
       "      <td>156000</td>\n",
       "      <td>Peugeot</td>\n",
       "      <td>308</td>\n",
       "      <td>Gasoline</td>\n",
       "      <td>Manual</td>\n",
       "      <td>Used</td>\n",
       "      <td>6950</td>\n",
       "      <td>156.0</td>\n",
       "      <td>2011</td>\n",
       "    </tr>\n",
       "  </tbody>\n",
       "</table>\n",
       "</div>"
      ],
      "text/plain": [
       "   mileage        make   model      fuel    gear offerType  price     hp  year\n",
       "0   235000         BMW     316    Diesel  Manual      Used   6800  116.0  2011\n",
       "1    92800  Volkswagen    Golf  Gasoline  Manual      Used   6877  122.0  2011\n",
       "2   149300        SEAT    Exeo  Gasoline  Manual      Used   6900  160.0  2011\n",
       "3    96200     Renault  Megane  Gasoline  Manual      Used   6950  110.0  2011\n",
       "4   156000     Peugeot     308  Gasoline  Manual      Used   6950  156.0  2011"
      ]
     },
     "execution_count": 4,
     "metadata": {},
     "output_type": "execute_result"
    }
   ],
   "source": [
    "# Sie erhalten einen ersten Eindruck der Daten und der Spaltennamen.\r\n",
    "# head() liefert die ersten Zeilen der Datentabelle.\r\n",
    "df.head()\r\n",
    "\r\n",
    "#siehe auch df.head?"
   ]
  },
  {
   "cell_type": "code",
   "execution_count": null,
   "id": "5a292d59",
   "metadata": {
    "scrolled": true
   },
   "outputs": [],
   "source": [
    "# tail() liefert die letzten 5 Zeilen der Datentabelle\r\n",
    "df.tail()"
   ]
  },
  {
   "cell_type": "code",
   "execution_count": null,
   "id": "a85d5608",
   "metadata": {},
   "outputs": [],
   "source": [
    "# Beachten Sie die Information über Anzahl von Zeilen und Spalten\r\n",
    "# Der Datensatz hat 46349 Zeilen.\r\n",
    "df"
   ]
  },
  {
   "cell_type": "markdown",
   "id": "f18be7c0",
   "metadata": {},
   "source": [
    "**Aufgabe B4:** Lassen sie sich das Attribute \"shape\" des df-Objektes anzeigen! Welche Informationen gibt Ihnen der Output?"
   ]
  },
  {
   "cell_type": "code",
   "execution_count": null,
   "id": "a31e7d8b",
   "metadata": {},
   "outputs": [],
   "source": [
    "# shape() liefert die Anzahl der Zeilen und Spalten\r\n",
    "df.shape"
   ]
  },
  {
   "cell_type": "markdown",
   "id": "1be37a9f",
   "metadata": {},
   "source": [
    "**Aufgabe B5:** Nutzen Sie die Methode \"info()\" zusammen des df-Objekt (Dataframe-Objekt). Welche Informationen gibt ihnen der Output? Sind diese Infors plausibel? Was fällt Ihnen be kritischer Betrachung dieser Infos auf?"
   ]
  },
  {
   "cell_type": "code",
   "execution_count": null,
   "id": "708b550d",
   "metadata": {},
   "outputs": [],
   "source": [
    "# info() liefert Infos zu Spalten, Datentypen, Null-Werten und des Speicherverbrauchs\r\n",
    "# Der Datensatz hat 46349 Zeilen. Die Spalten model,gear und hp enthalten nicht in allen Spalten non-Null-Werte!\r\n",
    "df.info()"
   ]
  },
  {
   "cell_type": "markdown",
   "id": "2cc1780e",
   "metadata": {},
   "source": [
    "**Aufgabe B6:** Nutzen Sie die Methode \"describe()\" zusammen des df-Objekt. Welche Informationen gibt ihnen der Output?"
   ]
  },
  {
   "cell_type": "code",
   "execution_count": null,
   "id": "533f44f6",
   "metadata": {},
   "outputs": [],
   "source": [
    "# describe() liefert statistische Informationen für Spalten mit numerischen Werten\r\n",
    "df.describe() \r\n",
    "# 25%, 50%, 70% percentile, standardabweichung"
   ]
  },
  {
   "cell_type": "markdown",
   "id": "389babe6",
   "metadata": {},
   "source": [
    "**Aufgabe B7:** Nutzen Sie die Methode \"describe()\" mit dem Argument \"include = ['object']\" des df-Objekt. Welche informationen gibt ihnen der Output jetzt? Was fällt Ihnen bei der Interpretation der Werte in der Zeile \"count\" auf? Können Sie damit berechnen, wie viele Wagen mit automatischer Gangschaltung im Datensatz vorhanden sind? "
   ]
  },
  {
   "cell_type": "code",
   "execution_count": null,
   "id": "e86df72a",
   "metadata": {},
   "outputs": [],
   "source": [
    "# Sie erhalten Informationen zu Spalten mit nicht-numerischen Werten.\r\n",
    "# Die Zeile 'count' in dieser Tabelle zählt nur die non-Null-Werte!\r\n",
    "df.describe(include = ['object'])"
   ]
  },
  {
   "cell_type": "code",
   "execution_count": null,
   "id": "83b142be",
   "metadata": {},
   "outputs": [],
   "source": [
    "# Anzahl Wagen mit automatischer Gangschaltung im Datenset.\r\n",
    "# Die fehlenden Werte der Spalte 'gear' sind zu beachten!\r\n",
    "(46167-30380)"
   ]
  },
  {
   "cell_type": "markdown",
   "id": "05193185",
   "metadata": {},
   "source": [
    "**Aufgabe B8:** Geben sie eine Liste aller in der Spalte 'gear' vorkommenden Werte an!"
   ]
  },
  {
   "cell_type": "code",
   "execution_count": null,
   "id": "821c8588",
   "metadata": {},
   "outputs": [],
   "source": [
    "df['gear'].unique()"
   ]
  },
  {
   "cell_type": "markdown",
   "id": "edf07ee0",
   "metadata": {},
   "source": [
    "**Aufgabe B9:** Geben Sie die Spalte 'gear' der Dataframes df einaml als Series und einmal als Dataframe zurück."
   ]
  },
  {
   "cell_type": "code",
   "execution_count": null,
   "id": "59b50200",
   "metadata": {},
   "outputs": [],
   "source": [
    "# Spalte als Serie\r\n",
    "df['gear']"
   ]
  },
  {
   "cell_type": "code",
   "execution_count": null,
   "id": "326c2cbd",
   "metadata": {},
   "outputs": [],
   "source": [
    "# Spalte als Dataframe\r\n",
    "df[['gear']]"
   ]
  },
  {
   "cell_type": "markdown",
   "id": "a6e8c74e",
   "metadata": {},
   "source": [
    "**Aufgabe B10:** Geben Sie die Spalten 'make' und 'model' zurück."
   ]
  },
  {
   "cell_type": "code",
   "execution_count": null,
   "id": "71fc52c5",
   "metadata": {},
   "outputs": [],
   "source": [
    "# neuer Dataframe\r\n",
    "df[['model','make']]"
   ]
  },
  {
   "cell_type": "markdown",
   "id": "c329822d",
   "metadata": {},
   "source": [
    "## C) Operationen und erste Auswertungen"
   ]
  },
  {
   "cell_type": "markdown",
   "id": "bde06260",
   "metadata": {},
   "source": [
    "**Aufgabe C1:** Nutzen Sie die Methode \"value_counts()\" der Serie-Objekte. Wiederholen dies mit dem Argument \"dropna=False\". Was bewirkt dies? Wiederholen dies jeweils mit dem Argument \"normalize = True\", um die relativen Häufigkeiten anzuzeigen."
   ]
  },
  {
   "cell_type": "code",
   "execution_count": null,
   "id": "809e1ad6",
   "metadata": {},
   "outputs": [],
   "source": [
    "# Häufigkeit einzelner Werte der Spalte 'gear'\r\n",
    "df['gear'].value_counts() "
   ]
  },
  {
   "cell_type": "code",
   "execution_count": null,
   "id": "72d5dfc5",
   "metadata": {},
   "outputs": [],
   "source": [
    "# NaNs werden auch gezählt!\r\n",
    "df['gear'].value_counts(dropna = False)"
   ]
  },
  {
   "cell_type": "code",
   "execution_count": null,
   "id": "1548ff58",
   "metadata": {},
   "outputs": [],
   "source": [
    "# relative Häufigkeit\r\n",
    "df['gear'].value_counts(normalize = True) "
   ]
  },
  {
   "cell_type": "markdown",
   "id": "bb9fcbe4",
   "metadata": {},
   "source": [
    "**Aufgabe C2:** Nutzen Sie \"np.mean\" um den Mittelwert der Spalte \"price\" über den gesamten Datenbestand zu erhalten."
   ]
  },
  {
   "cell_type": "code",
   "execution_count": null,
   "id": "ecadc3bd",
   "metadata": {},
   "outputs": [],
   "source": [
    "# Mittlerer Preis\r\n",
    "print(df['price'].mean())\r\n",
    "print(df['price'].agg(np.mean))\r\n",
    "np.mean(df['price'])"
   ]
  },
  {
   "cell_type": "markdown",
   "id": "d8228278",
   "metadata": {},
   "source": [
    "**Aufgabe C3:** Nutzen Sie die Methode \"sort_values()\" des Dataframes, um die Top 10 der günsigsten Gebrauchtwagen zurückzugeben."
   ]
  },
  {
   "cell_type": "code",
   "execution_count": null,
   "id": "6be841e2",
   "metadata": {
    "scrolled": true
   },
   "outputs": [],
   "source": [
    "# Top 10 der günsigsten Gebrauchtwagen:\r\n",
    "df.sort_values(by = ['offerType', 'price'], ascending = [False, True]).head(10) "
   ]
  },
  {
   "cell_type": "markdown",
   "id": "d93150d3",
   "metadata": {},
   "source": [
    "**Aufgabe C4:** Geben Sie einen Dataframe zurück, der nur dieselbetriebene Autos enthält und dessen Baujahr nach 2019 liegt. \\\n",
    "Berechnen Sie den mitteleren Preis für diese Autos!"
   ]
  },
  {
   "cell_type": "code",
   "execution_count": null,
   "id": "bca81ab8",
   "metadata": {},
   "outputs": [],
   "source": [
    "# Welche Autos sind dieselbetrieben und nach 2019 gebaut worden?\r\n",
    "df[(df['fuel'] == 'Diesel') &  (df['year'] > 2019)]"
   ]
  },
  {
   "cell_type": "code",
   "execution_count": null,
   "id": "4a83c3e9",
   "metadata": {},
   "outputs": [],
   "source": [
    "# # Welche mittleren Preis haben die Autos, welche dieselbetrieben und nach dem Jahr 2019 gebaut worden sind?\r\n",
    "df[(df['fuel'] == 'Diesel') &  (df['year'] > 2019) ]['price'].mean()"
   ]
  },
  {
   "cell_type": "markdown",
   "id": "6865d800",
   "metadata": {},
   "source": [
    "**Aufgabe C5 (optional):** Geben Sie einen Dataframe zurück, der nur Autos enthält, die entweder einerseits weniger als 30,000 Meilen gefahren sind oder andererseits einen Preis größer als 70,000 und eine manuelle Gangschaltung haben."
   ]
  },
  {
   "cell_type": "code",
   "execution_count": null,
   "id": "d3fc0282",
   "metadata": {},
   "outputs": [],
   "source": [
    "# Welche Autos sind weniger als 30,000 Meilen gefahren oder haben einen Preis größer als 70,000 und haben eine manuelle Gangschaltung?\r\n",
    "# Beachten Sie den Vorrang logischer Operatoren!\r\n",
    "df[(df['mileage'] < 30000) | (df['price'] > 70000) & (df['gear'] == 'Manual')]\r\n",
    "\r\n",
    "# Beachten Sie den Vorrang logischer Operatoren!\r\n",
    "# Vergleichen Sie zu:\r\n",
    "#df[((df['mileage'] < 30000) | (df['price'] > 70000)) & (df['gear'] == 'Manual')]"
   ]
  },
  {
   "cell_type": "markdown",
   "id": "a0d40d6e",
   "metadata": {},
   "source": [
    "**Aufgabe C6:** Nutzen Sie die Methode \"iloc()\" des DataFrames df, um die Zeilen 2 bis inkl. 9 und die Spalten 2 bis inkl. 4 von df zu erhalten."
   ]
  },
  {
   "cell_type": "code",
   "execution_count": 11,
   "id": "5d1ac678",
   "metadata": {},
   "outputs": [
    {
     "data": {
      "text/html": [
       "<div>\n",
       "<style scoped>\n",
       "    .dataframe tbody tr th:only-of-type {\n",
       "        vertical-align: middle;\n",
       "    }\n",
       "\n",
       "    .dataframe tbody tr th {\n",
       "        vertical-align: top;\n",
       "    }\n",
       "\n",
       "    .dataframe thead th {\n",
       "        text-align: right;\n",
       "    }\n",
       "</style>\n",
       "<table border=\"1\" class=\"dataframe\">\n",
       "  <thead>\n",
       "    <tr style=\"text-align: right;\">\n",
       "      <th></th>\n",
       "      <th>model</th>\n",
       "      <th>fuel</th>\n",
       "      <th>gear</th>\n",
       "    </tr>\n",
       "  </thead>\n",
       "  <tbody>\n",
       "    <tr>\n",
       "      <th>1</th>\n",
       "      <td>Golf</td>\n",
       "      <td>Gasoline</td>\n",
       "      <td>Manual</td>\n",
       "    </tr>\n",
       "    <tr>\n",
       "      <th>20</th>\n",
       "      <td>Picanto</td>\n",
       "      <td>Gasoline</td>\n",
       "      <td>Automatic</td>\n",
       "    </tr>\n",
       "  </tbody>\n",
       "</table>\n",
       "</div>"
      ],
      "text/plain": [
       "      model      fuel       gear\n",
       "1      Golf  Gasoline     Manual\n",
       "20  Picanto  Gasoline  Automatic"
      ]
     },
     "execution_count": 11,
     "metadata": {},
     "output_type": "execute_result"
    }
   ],
   "source": [
    "df.iloc[2:10, 2:5]"
   ]
  },
  {
   "cell_type": "markdown",
   "id": "bc1ae72c",
   "metadata": {},
   "source": [
    "**Aufgabe C7:** Nutzen Sie die Methode \"loc()\" des DataFrames df, um die ersten 1000 Zeilen und die Spalten \"make\", \"model\" und \"price\" von df zu erhalten. Nutzen danach Sie die Methode \"iloc()\" des DataFrames df, um die ersten 1000 Zeilen und die Spalten \"make\", \"model\" und \"fuel\" von df zu erhalten. Vergleichen Sie die Ergebnisse."
   ]
  },
  {
   "cell_type": "code",
   "execution_count": null,
   "id": "62655478",
   "metadata": {},
   "outputs": [],
   "source": [
    "# Slicing der Zeilen von 0:999\r\n",
    "df.loc[:999, ['make', 'model', 'price']]"
   ]
  },
  {
   "cell_type": "code",
   "execution_count": null,
   "id": "f9153c0e",
   "metadata": {},
   "outputs": [],
   "source": [
    "# Slicing der Zeilen von 0:1000\r\n",
    "df.iloc[:1000, 1:4] \r\n",
    "\r\n",
    "# andere Lösung ohne Slicing der Spalten\r\n",
    "#df.iloc[:1000, [1,2,3]] "
   ]
  },
  {
   "cell_type": "markdown",
   "id": "f72147df",
   "metadata": {},
   "source": [
    "**Aufgabe C8:** Nutzen Sie nun die folgende Anweisung, um einen neuen Dataframe df2 zu erzeugen und wiederholen Sie die Schritte der Aufgabe C7 für diesen Dataframe. Was fällt beim Bergleich der Ergebnisse aus!\r\n",
    "```{python}\r\n",
    "df2 = df[df['make'] == 'Volkswagen']\r\n",
    "```"
   ]
  },
  {
   "cell_type": "code",
   "execution_count": null,
   "id": "e2435e87",
   "metadata": {},
   "outputs": [],
   "source": [
    "df[df['make']=='Volkswagen'].loc[:999, ['make', 'model', 'price']]\r\n",
    "# Der Dataframe enthält 156 Zeilen! "
   ]
  },
  {
   "cell_type": "code",
   "execution_count": null,
   "id": "ef0c0569",
   "metadata": {},
   "outputs": [],
   "source": [
    "df[df['make']=='Volkswagen'].iloc[:1000, [1,2,6]] \r\n",
    "# Der Dataframe enthält 1000 Zeilen!"
   ]
  },
  {
   "cell_type": "markdown",
   "id": "266bdad7",
   "metadata": {},
   "source": [
    "**Aufgaben C9:** Wenden Sie die Methode \"groupby()\" des Dataframe df auf die Spalte 'gear' an. Was bekommen sie zurück? (Interieren sie mittels \"for i,n in enumerate(df.groupby('gear')):\" über das Objekt)\r\n",
    "```{python}\r\n",
    "df.groupby('gear')\r\n",
    "```"
   ]
  },
  {
   "cell_type": "code",
   "execution_count": null,
   "id": "1576fb1a",
   "metadata": {},
   "outputs": [],
   "source": [
    "#Dieses Aufruf gibt ein GroupBy-Objekt zurück\r\n",
    "df.groupby(['gear'])"
   ]
  },
  {
   "cell_type": "code",
   "execution_count": null,
   "id": "01f5f688",
   "metadata": {},
   "outputs": [],
   "source": [
    "# Über das Groupby-Objekt (pandas.core.groupby.generic.DataFrameGroupBy) kann man iterieren. \r\n",
    "# Es enthält den jeweiligen Wert der gruppierten Spalte und einen Dataframe\r\n",
    "for i,n in enumerate(df.groupby('gear')):\r\n",
    "    print('Gruppe:',i)\r\n",
    "    print(' 1.Element:\\n',type(n[0]))#,n[0])\r\n",
    "    print(' 2.Element:\\n',type(n[1]))#,n[1])"
   ]
  },
  {
   "cell_type": "markdown",
   "id": "fc8bcb80",
   "metadata": {},
   "source": [
    "**Aufgaben C10:** Wenden Sie die Methode \"groupby()\" des Dataframe df auf die Spalte 'gear' an. Benutzen dann die Methode \"mean()\" des erhaltenen Objekts, um sich die Mittelwerte der Spalten gruppiert nach dern Werten der Spalte 'gear' berechnen zu lassen."
   ]
  },
  {
   "cell_type": "code",
   "execution_count": null,
   "id": "c21cbad3",
   "metadata": {},
   "outputs": [],
   "source": [
    "# Anwendung von desribe auf alle Spalten\r\n",
    "df.groupby(['gear']).mean()"
   ]
  },
  {
   "cell_type": "markdown",
   "id": "e7db8060",
   "metadata": {},
   "source": [
    "**Aufgaben C11 (optional):** Führen Sie das gleich wie in C10 durch, lassen Sie aber nur die gruppierten Informationen für die Spalten \"mileage\", \"price\" und \"hp\" ausgeben."
   ]
  },
  {
   "cell_type": "code",
   "execution_count": null,
   "id": "5e12e668",
   "metadata": {
    "scrolled": true
   },
   "outputs": [],
   "source": [
    "# Anwendung von describe auf ausgewählte Spalten.\r\n",
    "df.groupby(['gear'])[['mileage', 'price', 'hp']].mean()"
   ]
  },
  {
   "cell_type": "markdown",
   "id": "4708752b",
   "metadata": {},
   "source": [
    "**Aufgaben C12 (optional):** Gruppieren Sie nun nach den Werten der Spalte 'gear' und benutzen sie die Methode \"agg()\" um sich 'mean', und 'min' so wie 'max' anzeigen zu lassen."
   ]
  },
  {
   "cell_type": "code",
   "execution_count": null,
   "id": "ef3de501",
   "metadata": {},
   "outputs": [],
   "source": [
    "# Gruppieren der Daten in df nach den Werten der Spalte 'gear' und ermitteln von mean, min und max.\r\n",
    "df.groupby(['gear']).agg(['mean', 'min', 'max'])"
   ]
  },
  {
   "cell_type": "markdown",
   "id": "8b391fed",
   "metadata": {},
   "source": [
    "**Aufgaben C13 (optional):** Gruppieren Sie nun nach den Werten der Spalte 'gear' und verwenden für die Aggregation die Methode \"describe()\""
   ]
  },
  {
   "cell_type": "code",
   "execution_count": null,
   "id": "bc234fe2",
   "metadata": {},
   "outputs": [],
   "source": [
    "# Erhöhen der maximal angezeigten Spalten\r\n",
    "pd.set_option('display.max_columns', 40)\r\n",
    "# Durchschnittlicher Preis eines Autos per Schaltart im Datenbestand\r\n",
    "df.groupby(['gear']).describe()"
   ]
  },
  {
   "cell_type": "markdown",
   "id": "ff45f481",
   "metadata": {},
   "source": [
    "**Aufgaben C14 (optional):** Bestimmen Sie den mittleren Preis aller Volkswagenmodelle mit Baujahr 2020 und ordnen Sie die Modelle nach dem mittelen Preis."
   ]
  },
  {
   "cell_type": "code",
   "execution_count": null,
   "id": "2aa38218",
   "metadata": {},
   "outputs": [],
   "source": [
    "# Durchschnittlicher Preis eines Models Volkswagen 2020 sortiert nach durchschnittlichem Preis\r\n",
    "df[(df['make']=='Volkswagen') & (df.year == 2020)].groupby(['make','model'])['price'].mean().sort_values()"
   ]
  },
  {
   "cell_type": "code",
   "execution_count": null,
   "id": "0045f3c4",
   "metadata": {},
   "outputs": [],
   "source": [
    "# Durchschnittlicher Preis eines Models Volkswagen 2020 sortiert nach durchschnittlichem Preis \r\n",
    "# mit Anzahl der Wagen im Datenbestand\r\n",
    "# Beispiel hier unter Verwendung von x als \"Hilfsvaribele\" \r\n",
    "x = df[(df['make']=='Volkswagen') & (df.year == 2020)].groupby(['make','model'])['price'].agg(['mean','size'])\r\n",
    "x = x.reset_index()\r\n",
    "x = x.rename(columns={'mean':'mean_price','size':'number_of_car'})\r\n",
    "x = x.sort_values(by='mean_price')\r\n",
    "x"
   ]
  },
  {
   "cell_type": "markdown",
   "id": "70250b3f",
   "metadata": {},
   "source": [
    "**Aufgaben C15:** Erstellen Sie eine neue Spalte mit dem Namen \"used_young_cars\", welche einen boolean Wert \"True\" besitzt für alle Gebrauchtwagen, die älter sind als 2017 und \"False\" für alle Anderen."
   ]
  },
  {
   "cell_type": "code",
   "execution_count": null,
   "id": "da67e215",
   "metadata": {},
   "outputs": [],
   "source": [
    "# Erstellen einer neuen Spalte 'used_young_cars': \r\n",
    "df['used_young_cars'] = (df['year'] > 2017) & (df['offerType'] == 'Used')\r\n",
    "df"
   ]
  },
  {
   "cell_type": "markdown",
   "id": "24e48aa7",
   "metadata": {},
   "source": [
    "**Aufgaben C16:** Nutzen Sie die Methode \"describe()\" jeweils einmal für den Teil des Dataframe an, bei welchem \"used_young_cars\" == True bzw.  und \"used_young_cars\" == False."
   ]
  },
  {
   "cell_type": "code",
   "execution_count": null,
   "id": "c6ebb7c8",
   "metadata": {},
   "outputs": [],
   "source": [
    "df[df['used_young_cars'] == True].describe()"
   ]
  },
  {
   "cell_type": "code",
   "execution_count": null,
   "id": "772854aa",
   "metadata": {
    "scrolled": true
   },
   "outputs": [],
   "source": [
    "df[df['used_young_cars'] == False].describe()"
   ]
  },
  {
   "cell_type": "markdown",
   "id": "7212950f",
   "metadata": {},
   "source": [
    "**Aufgabe C17: (optional)** Wenden sie die Funktion \"len\" aud den Dateframe df an. Was erhalten Sie?"
   ]
  },
  {
   "cell_type": "code",
   "execution_count": null,
   "id": "de0d2502",
   "metadata": {},
   "outputs": [],
   "source": [
    "#Man erhält die Anzahl der Zeilen.\r\n",
    "len(df)"
   ]
  },
  {
   "cell_type": "markdown",
   "id": "7962d0f9",
   "metadata": {},
   "source": [
    "**Aufgabe C18: (optional)** Wenden df['model'].apply(len) an, um die Anzahl der Zeichen der Namen der Modelle zu erhalten. Was tut \"apply()\"? Warum funktioniert das so nicht? Betrachten sie die Ausgabe! Wie können Sie die Anzahl dennoch erhalten?"
   ]
  },
  {
   "cell_type": "code",
   "execution_count": null,
   "id": "9c3bd566",
   "metadata": {},
   "outputs": [],
   "source": [
    "# Sie eine Fehlermeldung!\r\n",
    "# Die Modellbezeichung mancher Modelle ist eine Zahl (zwar vom Datentype Object, aber eine Zahl), für welche len() nicht definiert ist.\r\n",
    "df['model'].apply(len)"
   ]
  },
  {
   "cell_type": "code",
   "execution_count": null,
   "id": "d4ba659d",
   "metadata": {},
   "outputs": [],
   "source": [
    "# Ändert man den Datentype aller Werte der Spalte 'model' zu String, ist das Problem behoben.\r\n",
    "df3 = df[['make','model']].copy()\r\n",
    "df3['Länge'] = df3['model'].astype('str').apply(len)\r\n",
    "df3"
   ]
  },
  {
   "cell_type": "markdown",
   "id": "4c3ba7ff",
   "metadata": {},
   "source": [
    "**Aufgabe C19: (optional)** Nutzen Sie die Methode \"apply()\" auf den gesamten Datenbestand in df, um alle Einträge aus Firmen mit die mit 'F' anfangen zurückzugeben."
   ]
  },
  {
   "cell_type": "code",
   "execution_count": null,
   "id": "7340d4fa",
   "metadata": {},
   "outputs": [],
   "source": [
    "# Wählt alle Einträge aus Firmen mit die mit 'F' anfangen aus\r\n",
    "df[df['make'].apply(lambda make: make[0] == 'F')]"
   ]
  },
  {
   "cell_type": "markdown",
   "id": "eecfc2a5",
   "metadata": {},
   "source": [
    "## D) Jupyter Notebook: Magic Commands  (optional)\n",
    "Magic Commands können sehr praktisch sein, sind aber weder für die Bedienung Jupyter Notebooks noch für diese Kurs notwendig!"
   ]
  },
  {
   "cell_type": "markdown",
   "id": "302beaca",
   "metadata": {},
   "source": [
    "**Aufgabe D1: (optional)**\n",
    "\n",
    "Lassen Sie sich alle \"magic commands\" anzeigen."
   ]
  },
  {
   "cell_type": "code",
   "execution_count": null,
   "id": "e993693b",
   "metadata": {},
   "outputs": [],
   "source": [
    "#Übersicht über alle magic commands\r\n",
    "%lsmagic"
   ]
  },
  {
   "cell_type": "markdown",
   "id": "10b084f5",
   "metadata": {},
   "source": [
    "**Aufgabe D2: (optional)**\n",
    "\n",
    "Was bezwecken folgende Eingaben (magic comands)?\n",
    "- %who\n",
    "- %whos\n",
    "- %whos?\n",
    "- %quickref\n",
    "- %magic"
   ]
  },
  {
   "cell_type": "code",
   "execution_count": null,
   "id": "1eb981cc",
   "metadata": {},
   "outputs": [],
   "source": [
    "#Anzeige der momentan vorhandenen Variablen\r\n",
    "%who"
   ]
  },
  {
   "cell_type": "code",
   "execution_count": null,
   "id": "c7971d1e",
   "metadata": {},
   "outputs": [],
   "source": [
    "#Übersicht der momentanen Variablen und ihrer Belegung\r\n",
    "%whos"
   ]
  },
  {
   "cell_type": "code",
   "execution_count": null,
   "id": "eb8b8728",
   "metadata": {},
   "outputs": [],
   "source": [
    "#Inline help für %whos\r\n",
    "%whos?"
   ]
  },
  {
   "cell_type": "code",
   "execution_count": null,
   "id": "3c031ea3",
   "metadata": {},
   "outputs": [],
   "source": [
    "#Kurzübersicht über magic commands\r\n",
    "%quickref"
   ]
  },
  {
   "cell_type": "code",
   "execution_count": null,
   "id": "ff586105",
   "metadata": {},
   "outputs": [],
   "source": [
    "#Übersicht über alle magic commands\r\n",
    "%magic"
   ]
  },
  {
   "cell_type": "markdown",
   "id": "5051cb7e",
   "metadata": {},
   "source": [
    "**Aufgabe D3: (optional)**\n",
    "\n",
    "Sie wollen wissen, wie lange die Ausführung folgenden Codes dauert. Wie können Sie das erledigen? (Tipp: %%time)\n",
    "```{python}\n",
    "N = 100000\n",
    "x=0\n",
    "for i in range(1,N):\n",
    "    x+=i\n",
    "```\n",
    "Geben sie zusätzlich den finalen Wert von **x** an!"
   ]
  },
  {
   "cell_type": "code",
   "execution_count": null,
   "id": "0433df1a",
   "metadata": {},
   "outputs": [],
   "source": [
    "%%time\r\n",
    "N = 1000000\r\n",
    "x=0\r\n",
    "for i in range(1,N):\r\n",
    "    x+=i\r\n",
    "x"
   ]
  },
  {
   "cell_type": "code",
   "execution_count": null,
   "id": "cb6054b0",
   "metadata": {},
   "outputs": [],
   "source": []
  }
 ],
 "metadata": {
  "interpreter": {
   "hash": "39bf32ff90485b097d5e7420d1671d646599cb1903e73fc8941331240a71e111"
  },
  "kernelspec": {
   "display_name": "Python 3 (ipykernel)",
   "language": "python",
   "name": "python3"
  },
  "language_info": {
   "codemirror_mode": {
    "name": "ipython",
    "version": 3
   },
   "file_extension": ".py",
   "mimetype": "text/x-python",
   "name": "python",
   "nbconvert_exporter": "python",
   "pygments_lexer": "ipython3",
   "version": "3.8.8"
  }
 },
 "nbformat": 4,
 "nbformat_minor": 5
}
